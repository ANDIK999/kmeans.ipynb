{
  "nbformat": 4,
  "nbformat_minor": 0,
  "metadata": {
    "colab": {
      "provenance": [],
      "authorship_tag": "ABX9TyNGv3NNQ+fL8NxRbXw6jv4E",
      "include_colab_link": true
    },
    "kernelspec": {
      "name": "python3",
      "display_name": "Python 3"
    },
    "language_info": {
      "name": "python"
    }
  },
  "cells": [
    {
      "cell_type": "markdown",
      "metadata": {
        "id": "view-in-github",
        "colab_type": "text"
      },
      "source": [
        "<a href=\"https://colab.research.google.com/github/ANDIK999/kmeans.ipynb/blob/main/kmeans.ipynb\" target=\"_parent\"><img src=\"https://colab.research.google.com/assets/colab-badge.svg\" alt=\"Open In Colab\"/></a>"
      ]
    },
    {
      "cell_type": "code",
      "execution_count": 1,
      "metadata": {
        "colab": {
          "base_uri": "https://localhost:8080/"
        },
        "id": "68SKxMhTnifB",
        "outputId": "3d32753e-e506-4a33-c7e8-dec63b85c7c6"
      },
      "outputs": [
        {
          "output_type": "stream",
          "name": "stdout",
          "text": [
            "                    wilayah  jenis_minuman    jumlah volume  kelompok\n",
            "0      Kecamatan Pademangan              1  0.094972  Botol         2\n",
            "1      Kecamatan Pademangan              2  0.737430  Botol         2\n",
            "2      Kecamatan Pademangan              3  0.055866  Botol         2\n",
            "3      Kecamatan Pademangan              4  0.458101  Botol         2\n",
            "4      Kecamatan Pademangan              5  0.458101  Botol         2\n",
            "5      Kecamatan Pademangan              6  0.011173  Botol         0\n",
            "6      Kecamatan Pademangan              7  0.039106  Botol         0\n",
            "7            Kecamatan Koja              2  0.061453  Botol         2\n",
            "8            Kecamatan Koja              4  0.000000  Botol         2\n",
            "9            Kecamatan Koja              8  0.324022  Botol         0\n",
            "10           Kecamatan Koja              9  0.117318  Botol         0\n",
            "11           Kecamatan Koja              5  0.296089  Botol         2\n",
            "12           Kecamatan Koja             10  0.726257  Botol         0\n",
            "13           Kecamatan Koja              6  0.100559  Botol         0\n",
            "14      Kecamatan Cilincing              4  0.039106  Botol         2\n",
            "15      Kecamatan Cilincing              8  1.000000  Botol         0\n",
            "16      Kecamatan Cilincing              5  0.134078  Botol         2\n",
            "17      Kecamatan Cilincing             11  0.039106  Botol         1\n",
            "18      Kecamatan Cilincing             12  0.044693  Botol         1\n",
            "19      Kecamatan Cilincing             13  0.217877  Botol         1\n",
            "20   KecamatanTanjung Priok              8  0.324022  Botol         0\n",
            "21   KecamatanTanjung Priok              5  0.240223  Botol         2\n",
            "22   KecamatanTanjung Priok              7  0.005587  Botol         0\n",
            "23  Kecamatan Kelapa Gading              3  0.016760  Botol         2\n",
            "24  Kecamatan Kelapa Gading             14  0.223464  Botol         1\n",
            "25  Kecamatan Kelapa Gading             15  0.357542  Botol         1\n",
            "26  Kecamatan Kelapa Gading              4  0.659218  Botol         2\n",
            "27  Kecamatan Kelapa Gading              8  0.324022  Botol         0\n",
            "28  Kecamatan Kelapa Gading              6  0.011173  Botol         0\n",
            "29  Kecamatan Kelapa Gading             16  0.653631  Botol         1\n"
          ]
        },
        {
          "output_type": "stream",
          "name": "stderr",
          "text": [
            "/usr/local/lib/python3.10/dist-packages/sklearn/cluster/_kmeans.py:870: FutureWarning: The default value of `n_init` will change from 10 to 'auto' in 1.4. Set the value of `n_init` explicitly to suppress the warning\n",
            "  warnings.warn(\n"
          ]
        }
      ],
      "source": [
        "import pandas as pd\n",
        "from sklearn.cluster import KMeans\n",
        "from sklearn.preprocessing import MinMaxScaler\n",
        "\n",
        "# Membuat DataFrame dari dataset\n",
        "data = {\n",
        "    'wilayah': [\n",
        "        'Kecamatan Pademangan', 'Kecamatan Pademangan', 'Kecamatan Pademangan', 'Kecamatan Pademangan', 'Kecamatan Pademangan',\n",
        "        'Kecamatan Pademangan', 'Kecamatan Pademangan', 'Kecamatan Koja', 'Kecamatan Koja', 'Kecamatan Koja', 'Kecamatan Koja',\n",
        "        'Kecamatan Koja', 'Kecamatan Koja', 'Kecamatan Koja', 'Kecamatan Cilincing', 'Kecamatan Cilincing', 'Kecamatan Cilincing',\n",
        "        'Kecamatan Cilincing', 'Kecamatan Cilincing', 'Kecamatan Cilincing', 'KecamatanTanjung Priok', 'KecamatanTanjung Priok',\n",
        "        'KecamatanTanjung Priok', 'Kecamatan Kelapa Gading', 'Kecamatan Kelapa Gading', 'Kecamatan Kelapa Gading',\n",
        "        'Kecamatan Kelapa Gading', 'Kecamatan Kelapa Gading', 'Kecamatan Kelapa Gading', 'Kecamatan Kelapa Gading'\n",
        "    ],\n",
        "    'jenis_minuman': [\n",
        "        'Ciu', 'Anggur Orang Tua', 'Guinnes', 'Anggur Merah', 'Rajawali',\n",
        "        'Vodka', 'Intisari', 'Anggur Orang Tua', 'Anggur Merah', 'Brandy', 'Mansion',\n",
        "        'Rajawali', 'Anggur Ginseng', 'Vodka', 'Anggur Merah', 'Brandy', 'Rajawali',\n",
        "        'Kolesom Kecil', 'Kolesom Besar', 'Aseng', 'Brandy', 'Rajawali', 'Intisari',\n",
        "        'Guinnes', 'Bintang', 'Bir', 'Anggur Merah', 'Brandy', 'Vodka', 'Bir Hitam'\n",
        "    ],\n",
        "    'jumlah': [\n",
        "        19, 134, 12, 84, 84,\n",
        "        4, 9, 13, 2, 60, 23,\n",
        "        55, 132, 20, 9, 181, 26,\n",
        "        9, 10, 41, 60, 45, 3,\n",
        "        5, 42, 66, 120, 60, 4, 119\n",
        "    ],\n",
        "    'volume': [\n",
        "        'Botol', 'Botol', 'Botol', 'Botol', 'Botol',\n",
        "        'Botol', 'Botol', 'Botol', 'Botol', 'Botol', 'Botol',\n",
        "        'Botol', 'Botol', 'Botol', 'Botol', 'Botol', 'Botol',\n",
        "        'Botol', 'Botol', 'Botol', 'Botol', 'Botol', 'Botol',\n",
        "        'Botol', 'Botol', 'Botol', 'Botol', 'Botol', 'Botol', 'Botol'\n",
        "    ]\n",
        "}\n",
        "\n",
        "df = pd.DataFrame(data)\n",
        "\n",
        "# Ubah Variabel Kategorikal ke Variabel Numerik\n",
        "jenis_minuman_mapping = {\n",
        "    'Ciu': 1, 'Anggur Orang Tua': 2, 'Guinnes': 3, 'Anggur Merah': 4,\n",
        "    'Rajawali': 5, 'Vodka': 6, 'Intisari': 7, 'Brandy': 8, 'Mansion': 9,\n",
        "    'Anggur Ginseng': 10, 'Kolesom Kecil': 11, 'Kolesom Besar': 12, 'Aseng': 13,\n",
        "    'Bintang': 14, 'Bir': 15, 'Bir Hitam': 16\n",
        "}\n",
        "df['jenis_minuman'] = df['jenis_minuman'].map(jenis_minuman_mapping)\n",
        "\n",
        "# Normalisasi Data\n",
        "scaler = MinMaxScaler()\n",
        "df['jumlah'] = scaler.fit_transform(df['jumlah'].values.reshape(-1, 1))\n",
        "\n",
        "# Penerapan K-Means Clustering\n",
        "k = 3  # Jumlah kelompok yang diinginkan\n",
        "\n",
        "# Fitur yang akan digunakan untuk clustering\n",
        "features = ['jenis_minuman', 'jumlah']\n",
        "\n",
        "# Subset dataset dengan fitur yang akan digunakan\n",
        "X = df[features]\n",
        "\n",
        "# Inisialisasi dan jalankan K-Means clustering\n",
        "kmeans = KMeans(n_clusters=k, random_state=42)\n",
        "kmeans.fit(X)\n",
        "\n",
        "# Menambahkan kolom \"kelompok\" ke dalam DataFrame hasil clustering\n",
        "df['kelompok'] = kmeans.labels_\n",
        "\n",
        "# Menampilkan hasil clustering\n",
        "print(df)\n"
      ]
    }
  ]
}